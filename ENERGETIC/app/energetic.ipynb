{
 "cells": [
  {
   "cell_type": "code",
   "execution_count": 1,
   "metadata": {},
   "outputs": [],
   "source": [
    "import pandas as pd\n",
    "import numpy as np"
   ]
  },
  {
   "cell_type": "code",
   "execution_count": 2,
   "metadata": {},
   "outputs": [],
   "source": [
    "injecao_diaria = 0\n",
    "consumo_diario = 0\n",
    "geracao_diaria = 0"
   ]
  },
  {
   "cell_type": "code",
   "execution_count": 9,
   "metadata": {},
   "outputs": [],
   "source": [
    "def calcular_excedente_deficit(injecao_diaria, consumo_diario):\n",
    "    if injecao_diaria > consumo_diario:\n",
    "        excedente = injecao_diaria - consumo_diario\n",
    "        deficit = 0\n",
    "    else:\n",
    "        deficit = consumo_diario - injecao_diaria\n",
    "        excedente = 0\n",
    "    return excedente, deficit"
   ]
  },
  {
   "cell_type": "code",
   "execution_count": 14,
   "metadata": {},
   "outputs": [],
   "source": [
    "# Pedir ao usuário para inserir os valores\n",
    "injecao_diaria = float(input(\"Digite a injeção diária em kWh: \"))"
   ]
  },
  {
   "cell_type": "code",
   "execution_count": 15,
   "metadata": {},
   "outputs": [],
   "source": [
    "# Valores de exemplo para injetado_total e consumo_total de hoje e do dia anterior\n",
    "injetado_total = float(input(\"Digite o total injetado em kWh de hoje: \"))\n",
    "consumo_total_hoje = float(input(\"Digite o total consumido em kWh de hoje: \"))\n",
    "consumo_total_ontem = float(input(\"Digite o total consumido em kWh de ontem: \"))"
   ]
  },
  {
   "cell_type": "code",
   "execution_count": 16,
   "metadata": {},
   "outputs": [],
   "source": [
    "# Calcular o consumo diário com base na diferença entre os totais de hoje e de ontem\n",
    "consumo_diario = consumo_total_hoje - consumo_total_ontem"
   ]
  },
  {
   "cell_type": "code",
   "execution_count": 17,
   "metadata": {},
   "outputs": [
    {
     "name": "stdout",
     "output_type": "stream",
     "text": [
      "Excedente: 6.0 kWh\n",
      "Déficit: 0 kWh\n"
     ]
    }
   ],
   "source": [
    "# Calcular os valores de excedente e déficit\n",
    "excedente, deficit = calcular_excedente_deficit(injecao_diaria, consumo_diario)\n",
    "\n",
    "print(f\"Excedente: {excedente} kWh\")\n",
    "print(f\"Déficit: {deficit} kWh\")"
   ]
  }
 ],
 "metadata": {
  "kernelspec": {
   "display_name": "datascience_evn",
   "language": "python",
   "name": "python3"
  },
  "language_info": {
   "codemirror_mode": {
    "name": "ipython",
    "version": 3
   },
   "file_extension": ".py",
   "mimetype": "text/x-python",
   "name": "python",
   "nbconvert_exporter": "python",
   "pygments_lexer": "ipython3",
   "version": "3.12.7"
  }
 },
 "nbformat": 4,
 "nbformat_minor": 2
}
